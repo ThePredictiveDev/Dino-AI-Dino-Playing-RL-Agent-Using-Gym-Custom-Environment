{
 "cells": [
  {
   "cell_type": "markdown",
   "id": "7e2f6f20-6d92-4757-8df2-d9797e530b68",
   "metadata": {},
   "source": [
    "# Dino Chrome Browser Playing Game Agent"
   ]
  },
  {
   "cell_type": "markdown",
   "id": "ba359a42-75ee-48f4-a745-26174c4d5a37",
   "metadata": {},
   "source": [
    "## Importing Libraries"
   ]
  },
  {
   "cell_type": "code",
   "execution_count": null,
   "id": "1f60ebe4-c53d-4737-8c8b-c08f5b8e4ffb",
   "metadata": {
    "tags": []
   },
   "outputs": [],
   "source": [
    "from mss import mss\n",
    "import pydirectinput\n",
    "import cv2\n",
    "import numpy as np\n",
    "import pytesseract \n",
    "import matplotlib.pyplot as plt\n",
    "import time\n",
    "from gym import Env\n",
    "from gym.wrappers import FrameStack\n",
    "from gym.spaces import Box, Discrete\n",
    "import os\n",
    "from stable_baselines3 import DQN\n",
    "from stable_baselines3.common.callbacks import BaseCallback\n",
    "from stable_baselines3.common import env_checker"
   ]
  },
  {
   "cell_type": "markdown",
   "id": "a033531f-7ef1-4f11-9268-d2bac19cf710",
   "metadata": {},
   "source": [
    "## Creating the Environment"
   ]
  },
  {
   "cell_type": "code",
   "execution_count": null,
   "id": "161a19eb-c635-4180-9072-fd3ef892055d",
   "metadata": {
    "tags": []
   },
   "outputs": [],
   "source": [
    "class Game(Env):\n",
    "    \n",
    "    def __init__(self):\n",
    "        super().__init__()\n",
    "        self.observation_space = Box(low=0, high = 255, shape=(1,83,100), dtype = (np.uint8))\n",
    "        self.action_space = Discrete(3)\n",
    "        self.cap = mss()\n",
    "        self.game_location = {'top':1200, 'left':0, 'width':1600, 'height':800}\n",
    "        self.done_location = {'top':1010, 'left':1130, 'width':1660, 'height':170}\n",
    "        self.reward_location = {'top':415, 'left':3400, 'width':370, 'height':600}\n",
    "    \n",
    "    def step(self, action):\n",
    "        action_map = {\n",
    "            0: 'space',\n",
    "            1: 'down',\n",
    "            2: 'no_op'\n",
    "                     }\n",
    "        \n",
    "        if action != 2: \n",
    "            pydirectinput.press(action_map[action])\n",
    "            \n",
    "        done, done_cap = self.get_done()\n",
    "        new_observation = self.get_observation()\n",
    "        \n",
    "        pic = np.array(self.cap.grab(self.reward_location))[:,:,:3]\n",
    "        pytesseract.pytesseract.tesseract_cmd = r'C:\\Program Files\\Tesseract-OCR\\tesseract.exe'\n",
    "        \n",
    "        pic = cv2.cvtColor(pic, cv2.COLOR_BGR2GRAY)\n",
    "        pic = cv2.resize(pic, (200,300))\n",
    "        kernel = np.ones((1, 1), np.uint8)\n",
    "        kernel1 = 1\n",
    "        #pic = cv2.dilate(pic, kernel, iterations=1)\n",
    "        pic = cv2.erode(pic, kernel, iterations=1) \n",
    "        pic = cv2.medianBlur(pic, kernel1)\n",
    "        pic = cv2.bilateralFilter(pic, kernel1, sigmaColor=130, sigmaSpace=130)\n",
    "        \n",
    "        raw_r = pytesseract.image_to_string(pic)\n",
    "        raw_r2 = raw_r.strip()\n",
    "        raw_r3 = raw_r2[2:]\n",
    "        \n",
    "        #reward = int(raw_r3)\n",
    "        '''\n",
    "        if action == 2: reward = 1  # + int(raw_r3)\n",
    "        elif action == 0: reward = -1\n",
    "        elif action == 1: reward = -2\n",
    "        '''\n",
    "        reward = 1\n",
    "        \n",
    "        info = {}\n",
    "        \n",
    "        return new_observation, reward, done, info\n",
    "        \n",
    "    \n",
    "    def render(self):\n",
    "        cv2.imshow('Game', np.array(self.cap.grab(self.game_location))[:,:,:3])\n",
    "        if cv2.waitKey(1) & 0xFF == ord('q'):\n",
    "            self.close()\n",
    "    \n",
    "    \n",
    "    def reset(self):\n",
    "        time.sleep(0.1)\n",
    "        pydirectinput.click(x=150, y=150)\n",
    "        pydirectinput.press('space')\n",
    "        return self.get_observation()\n",
    "    \n",
    "    def get_observation(self):\n",
    "        raw = np.array(self.cap.grab(self.game_location))[:,:,:3]\n",
    "        gray = cv2.cvtColor(raw, cv2.COLOR_BGR2GRAY)\n",
    "        ob = cv2.resize(gray, (100,83))\n",
    "        #ob = cv2.erode(resize, kernel, iterations=1) \n",
    "        #ob = cv2.medianBlur(ob, kernel1)\n",
    "        #ob = cv2.bilateralFilter(ob, kernel1, sigmaColor=130, sigmaSpace=130)\n",
    "        channel = np.reshape(ob, (1,83,100))\n",
    "        return channel\n",
    "\n",
    "    def get_done(self):\n",
    "        done_cap = np.array(self.cap.grab(self.done_location))[:,:,:3]\n",
    "        done_strings = ['GAME','GAHE']\n",
    "        done = False\n",
    "        pytesseract.pytesseract.tesseract_cmd = r'C:\\Program Files\\Tesseract-OCR\\tesseract.exe'\n",
    "        res = pytesseract.image_to_string(done_cap)[:4]\n",
    "        if res in done_strings:\n",
    "            done = True\n",
    "                       \n",
    "        return done, done_cap\n",
    "    \n",
    "    def close(self):\n",
    "        cv2.destroyAllWindows()\n",
    "    "
   ]
  },
  {
   "cell_type": "code",
   "execution_count": null,
   "id": "79880b52-ca59-4314-972b-aa01a1493ade",
   "metadata": {
    "tags": []
   },
   "outputs": [],
   "source": [
    "env = Game()"
   ]
  },
  {
   "cell_type": "markdown",
   "id": "39ff7b6e-2ac4-404a-8a08-5a26bb996290",
   "metadata": {},
   "source": [
    "## Setting up Callback Function"
   ]
  },
  {
   "cell_type": "code",
   "execution_count": null,
   "id": "e3fd7156-6338-4e67-88a2-94b35148cfea",
   "metadata": {
    "tags": []
   },
   "outputs": [],
   "source": [
    "class TrainAndLoggingCallback(BaseCallback):\n",
    "    \n",
    "    def __init__ (self, check_freq, save_path, verbose=1):\n",
    "        super(TrainAndLoggingCallback, self).__init__(verbose)\n",
    "        self.check_freq = check_freq\n",
    "        self.save_path = save_path\n",
    "        \n",
    "    def _init_callback(self):\n",
    "        if self.save_path is not None:\n",
    "            os.makedirs(self.save_path, exist_ok=True)\n",
    "            \n",
    "    def _on_step(self):\n",
    "        if self.n_calls % self.check_freq == 0:\n",
    "            model_path = os.path.join(self.save_path, 'best_model_{}'.format(self.n_calls))\n",
    "            self .model.save(model_path)\n",
    "        return True"
   ]
  },
  {
   "cell_type": "code",
   "execution_count": null,
   "id": "b4554970-15ce-4f9d-8d0e-ef454160ab3b",
   "metadata": {
    "tags": []
   },
   "outputs": [],
   "source": [
    "CHECKPOINT_DIR = './RL_MODEL2/'\n",
    "LOG_DIR = './logs/'"
   ]
  },
  {
   "cell_type": "code",
   "execution_count": null,
   "id": "bd1bf6fc-544a-432d-b30d-01fb40e1b08c",
   "metadata": {
    "tags": []
   },
   "outputs": [],
   "source": [
    "callback = TrainAndLoggingCallback(check_freq=1000, save_path = CHECKPOINT_DIR)"
   ]
  },
  {
   "cell_type": "markdown",
   "id": "3351c57c-e0ff-4761-afc8-fc5216501aba",
   "metadata": {},
   "source": [
    "## Building and Training DQN"
   ]
  },
  {
   "cell_type": "code",
   "execution_count": null,
   "id": "26f382b1-6999-45c6-87ae-a7f89a8f7df6",
   "metadata": {
    "tags": []
   },
   "outputs": [],
   "source": [
    "model = DQN('CnnPolicy', env, tensorboard_log = LOG_DIR, verbose=1, buffer_size=1200000, learning_starts=100 ,learning_rate = 0.000001)#, n_steps = 512)"
   ]
  },
  {
   "cell_type": "code",
   "execution_count": null,
   "id": "e868eb17-e318-4f35-ae67-a29434c08937",
   "metadata": {
    "tags": []
   },
   "outputs": [],
   "source": [
    "model.learn(total_timesteps=50000, callback=callback)"
   ]
  },
  {
   "cell_type": "markdown",
   "id": "0b671a05-c9ff-49de-a5bf-f9e9a7eb9cfa",
   "metadata": {
    "tags": []
   },
   "source": [
    "## Testing the Model"
   ]
  },
  {
   "cell_type": "code",
   "execution_count": null,
   "id": "6f1de374-cc31-4b77-b237-170a1ca5c695",
   "metadata": {
    "tags": []
   },
   "outputs": [],
   "source": [
    "model = DQN.load('./RL_MODEL2/best_model_3000')"
   ]
  },
  {
   "cell_type": "code",
   "execution_count": null,
   "id": "24d295a3-33da-40eb-84a4-405a18987ff9",
   "metadata": {
    "tags": []
   },
   "outputs": [],
   "source": [
    "for episode in range(4):\n",
    "    obs = env.reset()\n",
    "    done=False\n",
    "    total_reward=0\n",
    "    \n",
    "    while not done:\n",
    "        action,_ = model.predict(obs)\n",
    "        obs, reward, done, info = env.step(int(action))\n",
    "        time.sleep(0.01)\n",
    "        total_reward += reward\n",
    "    print(f\"Total reward for episode {episode} is {reward}\")\n",
    "    time.sleep(1)    "
   ]
  },
  {
   "cell_type": "markdown",
   "id": "7b34fc56-9dee-4133-a326-cc21d4dd7a12",
   "metadata": {},
   "source": [
    "#### MISC TO BE IGNORED (Testing OCR on Score)"
   ]
  },
  {
   "cell_type": "code",
   "execution_count": null,
   "id": "707c9b6b-9871-4689-8ecf-70ba637d601f",
   "metadata": {
    "tags": []
   },
   "outputs": [],
   "source": [
    "reward_location = {'top':415, 'left':3400, 'width':370, 'height':600}\n",
    "game_location = {'top':1200, 'left':0, 'width':1600, 'height':800}\n",
    "done_location = {'top':1010, 'left':1130, 'width':1660, 'height':170}\n",
    "pic = np.array(mss().grab(game_location))[:,:,:3]"
   ]
  },
  {
   "cell_type": "code",
   "execution_count": null,
   "id": "072d24da-fc0d-4070-a877-1e82c5886842",
   "metadata": {
    "tags": []
   },
   "outputs": [],
   "source": [
    "plt.imshow(pic)"
   ]
  },
  {
   "cell_type": "code",
   "execution_count": null,
   "id": "9e6018ed-fd7a-41cc-9ada-88e684df8708",
   "metadata": {
    "tags": []
   },
   "outputs": [],
   "source": [
    "pic = cv2.cvtColor(pic, cv2.COLOR_BGR2GRAY)\n",
    "pic = cv2.resize(pic, (200,300))\n",
    "kernel = np.ones((1, 1), np.uint8)\n",
    "kernel1 = 1\n",
    "#pic = cv2.dilate(pic, kernel, iterations=1)\n",
    "pic = cv2.erode(pic, kernel, iterations=1)\n",
    "pic = cv2.medianBlur(pic, kernel1)\n",
    "pic = cv2.bilateralFilter(pic, kernel1, sigmaColor=120, sigmaSpace=120)"
   ]
  },
  {
   "cell_type": "code",
   "execution_count": null,
   "id": "f44303d5-cb77-42a9-8047-79a59c36731c",
   "metadata": {
    "tags": []
   },
   "outputs": [],
   "source": [
    "plt.imshow(pic)"
   ]
  },
  {
   "cell_type": "code",
   "execution_count": null,
   "id": "e6588417-cd0c-4ddf-8412-2bc7fdede4a3",
   "metadata": {
    "tags": []
   },
   "outputs": [],
   "source": [
    "reward = pytesseract.image_to_string(pic)"
   ]
  },
  {
   "cell_type": "code",
   "execution_count": null,
   "id": "8d7e6a4e-c101-48a3-b168-f5656a41dcf6",
   "metadata": {
    "tags": []
   },
   "outputs": [],
   "source": [
    "reward"
   ]
  },
  {
   "cell_type": "code",
   "execution_count": null,
   "id": "cb25447a-68a8-4874-8f06-9ec01c16ba0d",
   "metadata": {
    "tags": []
   },
   "outputs": [],
   "source": [
    "reward = reward.strip()\n",
    "reward = reward[1:]\n",
    "reward = int(reward)"
   ]
  }
 ],
 "metadata": {
  "kernelspec": {
   "display_name": "Python 3 (ipykernel)",
   "language": "python",
   "name": "python3"
  },
  "language_info": {
   "codemirror_mode": {
    "name": "ipython",
    "version": 3
   },
   "file_extension": ".py",
   "mimetype": "text/x-python",
   "name": "python",
   "nbconvert_exporter": "python",
   "pygments_lexer": "ipython3",
   "version": "3.11.5"
  }
 },
 "nbformat": 4,
 "nbformat_minor": 5
}
